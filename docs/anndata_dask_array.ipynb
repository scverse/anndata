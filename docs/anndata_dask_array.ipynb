{
 "cells": [
  {
   "cell_type": "markdown",
   "id": "1446b800-7ded-4a4c-b54c-8510100c3bda",
   "metadata": {},
   "source": [
    "# Dask Array Support to AnnData"
   ]
  },
  {
   "cell_type": "markdown",
   "id": "cb9b747f-4384-4b16-8f4f-806edfdc0b06",
   "metadata": {},
   "source": [
    "## Initalizing\n",
    "\n",
    "First let's do our imports and initalize adata objects with the help of the `adata_with_dask` function defined below."
   ]
  },
  {
   "cell_type": "code",
   "execution_count": 1,
   "id": "f65fb557",
   "metadata": {},
   "outputs": [],
   "source": [
    "import dask.array as da\n",
    "import numpy as np\n",
    "import pandas as pd\n",
    "import anndata as ad"
   ]
  },
  {
   "cell_type": "code",
   "execution_count": 2,
   "id": "6f35076e",
   "metadata": {},
   "outputs": [],
   "source": [
    "def adata_with_dask(M, N, c=50):\n",
    "    adata_dict = {}\n",
    "    adata_dict[\"X\"] = da.random.random((M, N), chunks=c)\n",
    "    adata_dict[\"dtype\"] = np.float64\n",
    "    adata_dict[\"obsm\"] = dict(\n",
    "        a=da.random.random((M, 100)),\n",
    "    )\n",
    "    adata_dict[\"layers\"] = dict(\n",
    "        a=da.random.random((M, N)),\n",
    "    )\n",
    "    adata_dict[\"obs\"] = pd.DataFrame(\n",
    "        {\"batch\": np.random.choice([\"a\", \"b\"], M)},\n",
    "        index=[f\"cell{i:03d}\" for i in range(M)],\n",
    "    )\n",
    "    adata_dict[\"var\"] = pd.DataFrame(index=[f\"gene{i:03d}\" for i in range(N)])\n",
    "    \n",
    "    \n",
    "    return ad.AnnData(**adata_dict)"
   ]
  },
  {
   "cell_type": "markdown",
   "id": "bc83fbb8-ab85-40d5-81b9-c85099b1bc97",
   "metadata": {},
   "source": [
    "Here is how our adata looks like"
   ]
  },
  {
   "cell_type": "code",
   "execution_count": 3,
   "id": "769ecca2",
   "metadata": {
    "scrolled": true,
    "tags": []
   },
   "outputs": [
    {
     "data": {
      "text/plain": [
       "AnnData object with n_obs × n_vars = 100 × 100\n",
       "    obs: 'batch'\n",
       "    obsm: 'a'\n",
       "    layers: 'a'"
      ]
     },
     "execution_count": 3,
     "metadata": {},
     "output_type": "execute_result"
    }
   ],
   "source": [
    "adata = adata_with_dask(100,100)\n",
    "adata"
   ]
  },
  {
   "cell_type": "markdown",
   "id": "621729a6",
   "metadata": {
    "tags": []
   },
   "source": [
    "## Representation of Dask Arrays\n",
    "\n",
    "Dask arrays consists of chunks that can be distributed in clusters. In the figure below, each small square represents a chunk that form a dask array. In principle these some of these chunks could be in different machines (clusters)."
   ]
  },
  {
   "cell_type": "code",
   "execution_count": 4,
   "id": "48f14de5",
   "metadata": {},
   "outputs": [
    {
     "data": {
      "text/html": [
       "<table>\n",
       "    <tr>\n",
       "        <td>\n",
       "            <table>\n",
       "                <thead>\n",
       "                    <tr>\n",
       "                        <td> </td>\n",
       "                        <th> Array </th>\n",
       "                        <th> Chunk </th>\n",
       "                    </tr>\n",
       "                </thead>\n",
       "                <tbody>\n",
       "                    \n",
       "                    <tr>\n",
       "                        <th> Bytes </th>\n",
       "                        <td> 78.12 kiB </td>\n",
       "                        <td> 19.53 kiB </td>\n",
       "                    </tr>\n",
       "                    \n",
       "                    <tr>\n",
       "                        <th> Shape </th>\n",
       "                        <td> (100, 100) </td>\n",
       "                        <td> (50, 50) </td>\n",
       "                    </tr>\n",
       "                    <tr>\n",
       "                        <th> Count </th>\n",
       "                        <td> 1 Graph Layer </td>\n",
       "                        <td> 4 Chunks </td>\n",
       "                    </tr>\n",
       "                    <tr>\n",
       "                    <th> Type </th>\n",
       "                    <td> float64 </td>\n",
       "                    <td> numpy.ndarray </td>\n",
       "                    </tr>\n",
       "                </tbody>\n",
       "            </table>\n",
       "        </td>\n",
       "        <td>\n",
       "        <svg width=\"170\" height=\"170\" style=\"stroke:rgb(0,0,0);stroke-width:1\" >\n",
       "\n",
       "  <!-- Horizontal lines -->\n",
       "  <line x1=\"0\" y1=\"0\" x2=\"120\" y2=\"0\" style=\"stroke-width:2\" />\n",
       "  <line x1=\"0\" y1=\"60\" x2=\"120\" y2=\"60\" />\n",
       "  <line x1=\"0\" y1=\"120\" x2=\"120\" y2=\"120\" style=\"stroke-width:2\" />\n",
       "\n",
       "  <!-- Vertical lines -->\n",
       "  <line x1=\"0\" y1=\"0\" x2=\"0\" y2=\"120\" style=\"stroke-width:2\" />\n",
       "  <line x1=\"60\" y1=\"0\" x2=\"60\" y2=\"120\" />\n",
       "  <line x1=\"120\" y1=\"0\" x2=\"120\" y2=\"120\" style=\"stroke-width:2\" />\n",
       "\n",
       "  <!-- Colored Rectangle -->\n",
       "  <polygon points=\"0.0,0.0 120.0,0.0 120.0,120.0 0.0,120.0\" style=\"fill:#ECB172A0;stroke-width:0\"/>\n",
       "\n",
       "  <!-- Text -->\n",
       "  <text x=\"60.000000\" y=\"140.000000\" font-size=\"1.0rem\" font-weight=\"100\" text-anchor=\"middle\" >100</text>\n",
       "  <text x=\"140.000000\" y=\"60.000000\" font-size=\"1.0rem\" font-weight=\"100\" text-anchor=\"middle\" transform=\"rotate(-90,140.000000,60.000000)\">100</text>\n",
       "</svg>\n",
       "        </td>\n",
       "    </tr>\n",
       "</table>"
      ],
      "text/plain": [
       "dask.array<random_sample, shape=(100, 100), dtype=float64, chunksize=(50, 50), chunktype=numpy.ndarray>"
      ]
     },
     "execution_count": 4,
     "metadata": {},
     "output_type": "execute_result"
    }
   ],
   "source": [
    "adata.X"
   ]
  },
  {
   "cell_type": "code",
   "execution_count": 5,
   "id": "f0ad22fd",
   "metadata": {},
   "outputs": [
    {
     "data": {
      "text/html": [
       "<table>\n",
       "    <tr>\n",
       "        <td>\n",
       "            <table>\n",
       "                <thead>\n",
       "                    <tr>\n",
       "                        <td> </td>\n",
       "                        <th> Array </th>\n",
       "                        <th> Chunk </th>\n",
       "                    </tr>\n",
       "                </thead>\n",
       "                <tbody>\n",
       "                    \n",
       "                    <tr>\n",
       "                        <th> Bytes </th>\n",
       "                        <td> 78.12 kiB </td>\n",
       "                        <td> 78.12 kiB </td>\n",
       "                    </tr>\n",
       "                    \n",
       "                    <tr>\n",
       "                        <th> Shape </th>\n",
       "                        <td> (100, 100) </td>\n",
       "                        <td> (100, 100) </td>\n",
       "                    </tr>\n",
       "                    <tr>\n",
       "                        <th> Count </th>\n",
       "                        <td> 1 Graph Layer </td>\n",
       "                        <td> 1 Chunks </td>\n",
       "                    </tr>\n",
       "                    <tr>\n",
       "                    <th> Type </th>\n",
       "                    <td> float64 </td>\n",
       "                    <td> numpy.ndarray </td>\n",
       "                    </tr>\n",
       "                </tbody>\n",
       "            </table>\n",
       "        </td>\n",
       "        <td>\n",
       "        <svg width=\"170\" height=\"170\" style=\"stroke:rgb(0,0,0);stroke-width:1\" >\n",
       "\n",
       "  <!-- Horizontal lines -->\n",
       "  <line x1=\"0\" y1=\"0\" x2=\"120\" y2=\"0\" style=\"stroke-width:2\" />\n",
       "  <line x1=\"0\" y1=\"120\" x2=\"120\" y2=\"120\" style=\"stroke-width:2\" />\n",
       "\n",
       "  <!-- Vertical lines -->\n",
       "  <line x1=\"0\" y1=\"0\" x2=\"0\" y2=\"120\" style=\"stroke-width:2\" />\n",
       "  <line x1=\"120\" y1=\"0\" x2=\"120\" y2=\"120\" style=\"stroke-width:2\" />\n",
       "\n",
       "  <!-- Colored Rectangle -->\n",
       "  <polygon points=\"0.0,0.0 120.0,0.0 120.0,120.0 0.0,120.0\" style=\"fill:#ECB172A0;stroke-width:0\"/>\n",
       "\n",
       "  <!-- Text -->\n",
       "  <text x=\"60.000000\" y=\"140.000000\" font-size=\"1.0rem\" font-weight=\"100\" text-anchor=\"middle\" >100</text>\n",
       "  <text x=\"140.000000\" y=\"60.000000\" font-size=\"1.0rem\" font-weight=\"100\" text-anchor=\"middle\" transform=\"rotate(-90,140.000000,60.000000)\">100</text>\n",
       "</svg>\n",
       "        </td>\n",
       "    </tr>\n",
       "</table>"
      ],
      "text/plain": [
       "dask.array<random_sample, shape=(100, 100), dtype=float64, chunksize=(100, 100), chunktype=numpy.ndarray>"
      ]
     },
     "execution_count": 5,
     "metadata": {},
     "output_type": "execute_result"
    }
   ],
   "source": [
    "adata.obsm['a']"
   ]
  },
  {
   "cell_type": "markdown",
   "id": "b985283b-25af-436f-aa5e-4665bfe08357",
   "metadata": {},
   "source": [
    "## The Computation Graph\n",
    "The graph layer in the `Count` row refers to the layer of the computation graph of the chunks, i.e. which operations are applied to them. We have this because the operations done on Dask arrays aren't computed instantly. This way, Dask array can optimize the queries we issued to it. It also won't keep our resources occupied for the results we expect later. Below is a representation of the chunks we initially created."
   ]
  },
  {
   "cell_type": "code",
   "execution_count": 6,
   "id": "d51e61bb-acbf-4de5-9531-de75614bd9ba",
   "metadata": {},
   "outputs": [
    {
     "data": {
      "application/vnd.jupyter.widget-view+json": {
       "model_id": "745b6db429a24d7a8eb4c7e507bcc6a2",
       "version_major": 2,
       "version_minor": 0
      },
      "text/plain": [
       "CytoscapeWidget(cytoscape_layout={'name': 'dagre', 'rankDir': 'BT', 'nodeSep': 10, 'edgeSep': 10, 'spacingFact…"
      ]
     },
     "execution_count": 6,
     "metadata": {},
     "output_type": "execute_result"
    }
   ],
   "source": [
    "adata.X.visualize()"
   ]
  },
  {
   "cell_type": "markdown",
   "id": "02677f13-6ad7-4e55-9d6f-1368593be9d4",
   "metadata": {},
   "source": [
    "We now show an example for this computation graph on dask arrays to understand it better. This part is not technically relevant to AnnData."
   ]
  },
  {
   "cell_type": "code",
   "execution_count": 7,
   "id": "56b1d1bb-221a-4df2-89a4-23d7b2e4a435",
   "metadata": {},
   "outputs": [
    {
     "data": {
      "text/html": [
       "<table>\n",
       "    <tr>\n",
       "        <td>\n",
       "            <table>\n",
       "                <thead>\n",
       "                    <tr>\n",
       "                        <td> </td>\n",
       "                        <th> Array </th>\n",
       "                        <th> Chunk </th>\n",
       "                    </tr>\n",
       "                </thead>\n",
       "                <tbody>\n",
       "                    \n",
       "                    <tr>\n",
       "                        <th> Bytes </th>\n",
       "                        <td> 800 B </td>\n",
       "                        <td> 400 B </td>\n",
       "                    </tr>\n",
       "                    \n",
       "                    <tr>\n",
       "                        <th> Shape </th>\n",
       "                        <td> (100,) </td>\n",
       "                        <td> (50,) </td>\n",
       "                    </tr>\n",
       "                    <tr>\n",
       "                        <th> Count </th>\n",
       "                        <td> 3 Graph Layers </td>\n",
       "                        <td> 2 Chunks </td>\n",
       "                    </tr>\n",
       "                    <tr>\n",
       "                    <th> Type </th>\n",
       "                    <td> float64 </td>\n",
       "                    <td> numpy.ndarray </td>\n",
       "                    </tr>\n",
       "                </tbody>\n",
       "            </table>\n",
       "        </td>\n",
       "        <td>\n",
       "        <svg width=\"170\" height=\"75\" style=\"stroke:rgb(0,0,0);stroke-width:1\" >\n",
       "\n",
       "  <!-- Horizontal lines -->\n",
       "  <line x1=\"0\" y1=\"0\" x2=\"120\" y2=\"0\" style=\"stroke-width:2\" />\n",
       "  <line x1=\"0\" y1=\"25\" x2=\"120\" y2=\"25\" style=\"stroke-width:2\" />\n",
       "\n",
       "  <!-- Vertical lines -->\n",
       "  <line x1=\"0\" y1=\"0\" x2=\"0\" y2=\"25\" style=\"stroke-width:2\" />\n",
       "  <line x1=\"60\" y1=\"0\" x2=\"60\" y2=\"25\" />\n",
       "  <line x1=\"120\" y1=\"0\" x2=\"120\" y2=\"25\" style=\"stroke-width:2\" />\n",
       "\n",
       "  <!-- Colored Rectangle -->\n",
       "  <polygon points=\"0.0,0.0 120.0,0.0 120.0,25.412616514582485 0.0,25.412616514582485\" style=\"fill:#ECB172A0;stroke-width:0\"/>\n",
       "\n",
       "  <!-- Text -->\n",
       "  <text x=\"60.000000\" y=\"45.412617\" font-size=\"1.0rem\" font-weight=\"100\" text-anchor=\"middle\" >100</text>\n",
       "  <text x=\"140.000000\" y=\"12.706308\" font-size=\"1.0rem\" font-weight=\"100\" text-anchor=\"middle\" transform=\"rotate(0,140.000000,12.706308)\">1</text>\n",
       "</svg>\n",
       "        </td>\n",
       "    </tr>\n",
       "</table>"
      ],
      "text/plain": [
       "dask.array<sum-aggregate, shape=(100,), dtype=float64, chunksize=(50,), chunktype=numpy.ndarray>"
      ]
     },
     "execution_count": 7,
     "metadata": {},
     "output_type": "execute_result"
    }
   ],
   "source": [
    "xsum = adata.X.sum(axis=1) # do a sum on axis=1\n",
    "xsum"
   ]
  },
  {
   "cell_type": "markdown",
   "id": "65dd581f-587d-4ebf-958b-49624c26b1b5",
   "metadata": {},
   "source": [
    "Note that this computation isn't necessarily done yet, but rather saved to actually run it later.   If we investigate the computation graph of this result, we can see that for this operation some chunks aren't dependent on each other. This might give a hint to the Dask framework to store the chunks that depend on each other to the same cluster. For this simple exercise, all the chunks can be stored in one machine, but when it is impossible to store all the four chunks into one machine this will come in handy."
   ]
  },
  {
   "cell_type": "code",
   "execution_count": 8,
   "id": "3cdc324d-5dc4-4299-9645-4b2ba21b5f88",
   "metadata": {},
   "outputs": [
    {
     "data": {
      "application/vnd.jupyter.widget-view+json": {
       "model_id": "9924ac0740f542e892f9d17c8e0c6070",
       "version_major": 2,
       "version_minor": 0
      },
      "text/plain": [
       "CytoscapeWidget(cytoscape_layout={'name': 'dagre', 'rankDir': 'BT', 'nodeSep': 10, 'edgeSep': 10, 'spacingFact…"
      ]
     },
     "execution_count": 8,
     "metadata": {},
     "output_type": "execute_result"
    }
   ],
   "source": [
    "xsum.visualize()"
   ]
  },
  {
   "cell_type": "markdown",
   "id": "c1430611-6914-449c-a474-c3fab9eaaaee",
   "metadata": {},
   "source": [
    "But coming back to our anndata tutorial we will see that nothing changed in our adata."
   ]
  },
  {
   "cell_type": "code",
   "execution_count": 9,
   "id": "415175ea-1105-482f-a574-2b845ba23feb",
   "metadata": {},
   "outputs": [
    {
     "data": {
      "application/vnd.jupyter.widget-view+json": {
       "model_id": "774c31f8db9847459b21b86da0781f85",
       "version_major": 2,
       "version_minor": 0
      },
      "text/plain": [
       "CytoscapeWidget(cytoscape_layout={'name': 'dagre', 'rankDir': 'BT', 'nodeSep': 10, 'edgeSep': 10, 'spacingFact…"
      ]
     },
     "execution_count": 9,
     "metadata": {},
     "output_type": "execute_result"
    }
   ],
   "source": [
    "adata.X.visualize()"
   ]
  },
  {
   "cell_type": "markdown",
   "id": "28b8078d",
   "metadata": {},
   "source": [
    "## Concatenation\n",
    "\n",
    "In this section we will cover how concatenation on anndata objects that use Dask arrays looks like. We first create another anndata object to concatenate with."
   ]
  },
  {
   "cell_type": "code",
   "execution_count": 10,
   "id": "b03c9a13",
   "metadata": {},
   "outputs": [
    {
     "data": {
      "text/plain": [
       "AnnData object with n_obs × n_vars = 100 × 100\n",
       "    obs: 'batch'\n",
       "    obsm: 'a'\n",
       "    layers: 'a'"
      ]
     },
     "execution_count": 10,
     "metadata": {},
     "output_type": "execute_result"
    }
   ],
   "source": [
    "adata2 = adata_with_dask(100,100)\n",
    "adata2"
   ]
  },
  {
   "cell_type": "markdown",
   "id": "a828bce3-d91f-4a03-94c6-b9f139ad2261",
   "metadata": {},
   "source": [
    "We can see that the X attribute of adata also consist of four chunks."
   ]
  },
  {
   "cell_type": "code",
   "execution_count": 11,
   "id": "884ff189-d29b-41fb-bf2b-a1c6d61a0ca8",
   "metadata": {},
   "outputs": [
    {
     "data": {
      "text/html": [
       "<table>\n",
       "    <tr>\n",
       "        <td>\n",
       "            <table>\n",
       "                <thead>\n",
       "                    <tr>\n",
       "                        <td> </td>\n",
       "                        <th> Array </th>\n",
       "                        <th> Chunk </th>\n",
       "                    </tr>\n",
       "                </thead>\n",
       "                <tbody>\n",
       "                    \n",
       "                    <tr>\n",
       "                        <th> Bytes </th>\n",
       "                        <td> 78.12 kiB </td>\n",
       "                        <td> 19.53 kiB </td>\n",
       "                    </tr>\n",
       "                    \n",
       "                    <tr>\n",
       "                        <th> Shape </th>\n",
       "                        <td> (100, 100) </td>\n",
       "                        <td> (50, 50) </td>\n",
       "                    </tr>\n",
       "                    <tr>\n",
       "                        <th> Count </th>\n",
       "                        <td> 1 Graph Layer </td>\n",
       "                        <td> 4 Chunks </td>\n",
       "                    </tr>\n",
       "                    <tr>\n",
       "                    <th> Type </th>\n",
       "                    <td> float64 </td>\n",
       "                    <td> numpy.ndarray </td>\n",
       "                    </tr>\n",
       "                </tbody>\n",
       "            </table>\n",
       "        </td>\n",
       "        <td>\n",
       "        <svg width=\"170\" height=\"170\" style=\"stroke:rgb(0,0,0);stroke-width:1\" >\n",
       "\n",
       "  <!-- Horizontal lines -->\n",
       "  <line x1=\"0\" y1=\"0\" x2=\"120\" y2=\"0\" style=\"stroke-width:2\" />\n",
       "  <line x1=\"0\" y1=\"60\" x2=\"120\" y2=\"60\" />\n",
       "  <line x1=\"0\" y1=\"120\" x2=\"120\" y2=\"120\" style=\"stroke-width:2\" />\n",
       "\n",
       "  <!-- Vertical lines -->\n",
       "  <line x1=\"0\" y1=\"0\" x2=\"0\" y2=\"120\" style=\"stroke-width:2\" />\n",
       "  <line x1=\"60\" y1=\"0\" x2=\"60\" y2=\"120\" />\n",
       "  <line x1=\"120\" y1=\"0\" x2=\"120\" y2=\"120\" style=\"stroke-width:2\" />\n",
       "\n",
       "  <!-- Colored Rectangle -->\n",
       "  <polygon points=\"0.0,0.0 120.0,0.0 120.0,120.0 0.0,120.0\" style=\"fill:#ECB172A0;stroke-width:0\"/>\n",
       "\n",
       "  <!-- Text -->\n",
       "  <text x=\"60.000000\" y=\"140.000000\" font-size=\"1.0rem\" font-weight=\"100\" text-anchor=\"middle\" >100</text>\n",
       "  <text x=\"140.000000\" y=\"60.000000\" font-size=\"1.0rem\" font-weight=\"100\" text-anchor=\"middle\" transform=\"rotate(-90,140.000000,60.000000)\">100</text>\n",
       "</svg>\n",
       "        </td>\n",
       "    </tr>\n",
       "</table>"
      ],
      "text/plain": [
       "dask.array<random_sample, shape=(100, 100), dtype=float64, chunksize=(50, 50), chunktype=numpy.ndarray>"
      ]
     },
     "execution_count": 11,
     "metadata": {},
     "output_type": "execute_result"
    }
   ],
   "source": [
    "adata2.X"
   ]
  },
  {
   "cell_type": "code",
   "execution_count": 12,
   "id": "004872f4",
   "metadata": {},
   "outputs": [],
   "source": [
    "adata_concat = ad.concat([adata,adata2],index_unique='id')"
   ]
  },
  {
   "cell_type": "markdown",
   "id": "2b116dd0-9d4b-44a5-8639-11d0f328ec45",
   "metadata": {},
   "source": [
    "When we concatenate the whole object you can see that in the X of the result consists of eight chunks and they quite probably are just the source chunks aligned."
   ]
  },
  {
   "cell_type": "code",
   "execution_count": 13,
   "id": "2859934b",
   "metadata": {},
   "outputs": [
    {
     "data": {
      "text/html": [
       "<table>\n",
       "    <tr>\n",
       "        <td>\n",
       "            <table>\n",
       "                <thead>\n",
       "                    <tr>\n",
       "                        <td> </td>\n",
       "                        <th> Array </th>\n",
       "                        <th> Chunk </th>\n",
       "                    </tr>\n",
       "                </thead>\n",
       "                <tbody>\n",
       "                    \n",
       "                    <tr>\n",
       "                        <th> Bytes </th>\n",
       "                        <td> 156.25 kiB </td>\n",
       "                        <td> 19.53 kiB </td>\n",
       "                    </tr>\n",
       "                    \n",
       "                    <tr>\n",
       "                        <th> Shape </th>\n",
       "                        <td> (200, 100) </td>\n",
       "                        <td> (50, 50) </td>\n",
       "                    </tr>\n",
       "                    <tr>\n",
       "                        <th> Count </th>\n",
       "                        <td> 3 Graph Layers </td>\n",
       "                        <td> 8 Chunks </td>\n",
       "                    </tr>\n",
       "                    <tr>\n",
       "                    <th> Type </th>\n",
       "                    <td> float64 </td>\n",
       "                    <td> numpy.ndarray </td>\n",
       "                    </tr>\n",
       "                </tbody>\n",
       "            </table>\n",
       "        </td>\n",
       "        <td>\n",
       "        <svg width=\"110\" height=\"170\" style=\"stroke:rgb(0,0,0);stroke-width:1\" >\n",
       "\n",
       "  <!-- Horizontal lines -->\n",
       "  <line x1=\"0\" y1=\"0\" x2=\"60\" y2=\"0\" style=\"stroke-width:2\" />\n",
       "  <line x1=\"0\" y1=\"30\" x2=\"60\" y2=\"30\" />\n",
       "  <line x1=\"0\" y1=\"60\" x2=\"60\" y2=\"60\" />\n",
       "  <line x1=\"0\" y1=\"90\" x2=\"60\" y2=\"90\" />\n",
       "  <line x1=\"0\" y1=\"120\" x2=\"60\" y2=\"120\" style=\"stroke-width:2\" />\n",
       "\n",
       "  <!-- Vertical lines -->\n",
       "  <line x1=\"0\" y1=\"0\" x2=\"0\" y2=\"120\" style=\"stroke-width:2\" />\n",
       "  <line x1=\"30\" y1=\"0\" x2=\"30\" y2=\"120\" />\n",
       "  <line x1=\"60\" y1=\"0\" x2=\"60\" y2=\"120\" style=\"stroke-width:2\" />\n",
       "\n",
       "  <!-- Colored Rectangle -->\n",
       "  <polygon points=\"0.0,0.0 60.0,0.0 60.0,120.0 0.0,120.0\" style=\"fill:#ECB172A0;stroke-width:0\"/>\n",
       "\n",
       "  <!-- Text -->\n",
       "  <text x=\"30.000000\" y=\"140.000000\" font-size=\"1.0rem\" font-weight=\"100\" text-anchor=\"middle\" >100</text>\n",
       "  <text x=\"80.000000\" y=\"60.000000\" font-size=\"1.0rem\" font-weight=\"100\" text-anchor=\"middle\" transform=\"rotate(-90,80.000000,60.000000)\">200</text>\n",
       "</svg>\n",
       "        </td>\n",
       "    </tr>\n",
       "</table>"
      ],
      "text/plain": [
       "dask.array<concatenate, shape=(200, 100), dtype=float64, chunksize=(50, 50), chunktype=numpy.ndarray>"
      ]
     },
     "execution_count": 13,
     "metadata": {},
     "output_type": "execute_result"
    }
   ],
   "source": [
    "adata_concat.X"
   ]
  },
  {
   "cell_type": "markdown",
   "id": "d236d2d3-74a5-4a5c-a56d-92ec023be954",
   "metadata": {},
   "source": [
    "To confirm this we look at the computation graph. We can confirm that this new object's X is just the chunks of source X's put together."
   ]
  },
  {
   "cell_type": "code",
   "execution_count": 14,
   "id": "e391a570",
   "metadata": {},
   "outputs": [
    {
     "data": {
      "application/vnd.jupyter.widget-view+json": {
       "model_id": "d11126f2ecb14a0db381bf9cd91e9fcb",
       "version_major": 2,
       "version_minor": 0
      },
      "text/plain": [
       "CytoscapeWidget(cytoscape_layout={'name': 'dagre', 'rankDir': 'BT', 'nodeSep': 10, 'edgeSep': 10, 'spacingFact…"
      ]
     },
     "execution_count": 14,
     "metadata": {},
     "output_type": "execute_result"
    }
   ],
   "source": [
    "adata_concat.X.visualize()"
   ]
  },
  {
   "cell_type": "markdown",
   "id": "6bcc4eb3-d3ba-4830-ae77-52aa52df1127",
   "metadata": {},
   "source": [
    "Here for the obsm we also this. The chunk from both are just stacked on top."
   ]
  },
  {
   "cell_type": "code",
   "execution_count": 15,
   "id": "455754c5",
   "metadata": {},
   "outputs": [
    {
     "data": {
      "text/html": [
       "<table>\n",
       "    <tr>\n",
       "        <td>\n",
       "            <table>\n",
       "                <thead>\n",
       "                    <tr>\n",
       "                        <td> </td>\n",
       "                        <th> Array </th>\n",
       "                        <th> Chunk </th>\n",
       "                    </tr>\n",
       "                </thead>\n",
       "                <tbody>\n",
       "                    \n",
       "                    <tr>\n",
       "                        <th> Bytes </th>\n",
       "                        <td> 156.25 kiB </td>\n",
       "                        <td> 78.12 kiB </td>\n",
       "                    </tr>\n",
       "                    \n",
       "                    <tr>\n",
       "                        <th> Shape </th>\n",
       "                        <td> (200, 100) </td>\n",
       "                        <td> (100, 100) </td>\n",
       "                    </tr>\n",
       "                    <tr>\n",
       "                        <th> Count </th>\n",
       "                        <td> 3 Graph Layers </td>\n",
       "                        <td> 2 Chunks </td>\n",
       "                    </tr>\n",
       "                    <tr>\n",
       "                    <th> Type </th>\n",
       "                    <td> float64 </td>\n",
       "                    <td> numpy.ndarray </td>\n",
       "                    </tr>\n",
       "                </tbody>\n",
       "            </table>\n",
       "        </td>\n",
       "        <td>\n",
       "        <svg width=\"110\" height=\"170\" style=\"stroke:rgb(0,0,0);stroke-width:1\" >\n",
       "\n",
       "  <!-- Horizontal lines -->\n",
       "  <line x1=\"0\" y1=\"0\" x2=\"60\" y2=\"0\" style=\"stroke-width:2\" />\n",
       "  <line x1=\"0\" y1=\"60\" x2=\"60\" y2=\"60\" />\n",
       "  <line x1=\"0\" y1=\"120\" x2=\"60\" y2=\"120\" style=\"stroke-width:2\" />\n",
       "\n",
       "  <!-- Vertical lines -->\n",
       "  <line x1=\"0\" y1=\"0\" x2=\"0\" y2=\"120\" style=\"stroke-width:2\" />\n",
       "  <line x1=\"60\" y1=\"0\" x2=\"60\" y2=\"120\" style=\"stroke-width:2\" />\n",
       "\n",
       "  <!-- Colored Rectangle -->\n",
       "  <polygon points=\"0.0,0.0 60.0,0.0 60.0,120.0 0.0,120.0\" style=\"fill:#ECB172A0;stroke-width:0\"/>\n",
       "\n",
       "  <!-- Text -->\n",
       "  <text x=\"30.000000\" y=\"140.000000\" font-size=\"1.0rem\" font-weight=\"100\" text-anchor=\"middle\" >100</text>\n",
       "  <text x=\"80.000000\" y=\"60.000000\" font-size=\"1.0rem\" font-weight=\"100\" text-anchor=\"middle\" transform=\"rotate(-90,80.000000,60.000000)\">200</text>\n",
       "</svg>\n",
       "        </td>\n",
       "    </tr>\n",
       "</table>"
      ],
      "text/plain": [
       "dask.array<concatenate, shape=(200, 100), dtype=float64, chunksize=(100, 100), chunktype=numpy.ndarray>"
      ]
     },
     "execution_count": 15,
     "metadata": {},
     "output_type": "execute_result"
    }
   ],
   "source": [
    "adata_concat.obsm['a']"
   ]
  },
  {
   "cell_type": "code",
   "execution_count": 16,
   "id": "e1c25f85-db36-4050-8560-6fd0b546810b",
   "metadata": {},
   "outputs": [
    {
     "data": {
      "application/vnd.jupyter.widget-view+json": {
       "model_id": "33deeb6247de4a208c243be6541aa16e",
       "version_major": 2,
       "version_minor": 0
      },
      "text/plain": [
       "CytoscapeWidget(cytoscape_layout={'name': 'dagre', 'rankDir': 'BT', 'nodeSep': 10, 'edgeSep': 10, 'spacingFact…"
      ]
     },
     "execution_count": 16,
     "metadata": {},
     "output_type": "execute_result"
    }
   ],
   "source": [
    "adata_concat.obsm['a'].visualize()"
   ]
  },
  {
   "cell_type": "markdown",
   "id": "d6fa473b-e033-4d49-afc5-2b902e258376",
   "metadata": {},
   "source": [
    "## Views\n",
    "\n",
    "Let's see how our views of anndata objects play with Dask arrays."
   ]
  },
  {
   "cell_type": "markdown",
   "id": "6ad7dace-33d4-47a1-88d1-b05f360d0004",
   "metadata": {},
   "source": [
    "### Slice View\n",
    "\n",
    "\n",
    "\n",
    "We take a slice of the concatenated adatas. This operation returns a view of the adata which means that the resulting adata holds a view of the source adata's Dask array, namely the `DaskArrayView` class,  which is a completely different object than Dask array."
   ]
  },
  {
   "cell_type": "code",
   "execution_count": 17,
   "id": "a665fa1e",
   "metadata": {},
   "outputs": [],
   "source": [
    "adata_slice_view = adata_concat[:500, :][:, :500]"
   ]
  },
  {
   "cell_type": "markdown",
   "id": "8e799501-8009-4734-a095-8a9945e036cf",
   "metadata": {},
   "source": [
    "Below, you can see the values of the X attribute of the result. Which implies that the resulting object isn't \"lazy\" like Dask arrays. "
   ]
  },
  {
   "cell_type": "code",
   "execution_count": 18,
   "id": "bca1d375",
   "metadata": {},
   "outputs": [
    {
     "data": {
      "text/plain": [
       "(DaskArrayView([[0.53301795, 0.66787443, 0.15634334, ..., 0.32164397,\n",
       "                 0.75044711, 0.71176344],\n",
       "                [0.67788117, 0.48201184, 0.72151412, ..., 0.01904291,\n",
       "                 0.45753518, 0.93067324],\n",
       "                [0.17654758, 0.22333472, 0.43948775, ..., 0.25119521,\n",
       "                 0.40568709, 0.9481696 ],\n",
       "                ...,\n",
       "                [0.80856321, 0.6160137 , 0.69223335, ..., 0.19004122,\n",
       "                 0.33183754, 0.21153821],\n",
       "                [0.65223497, 0.41924633, 0.5888846 , ..., 0.78818906,\n",
       "                 0.51566138, 0.91042055],\n",
       "                [0.36910591, 0.24653824, 0.05248607, ..., 0.48638579,\n",
       "                 0.41379648, 0.22823851]]),\n",
       " (200, 100))"
      ]
     },
     "execution_count": 18,
     "metadata": {},
     "output_type": "execute_result"
    }
   ],
   "source": [
    "adata_slice_view.X, adata_slice_view.shape"
   ]
  },
  {
   "cell_type": "markdown",
   "id": "0d62ea78-5206-4d4d-b8a1-ef1db50f9f6c",
   "metadata": {},
   "source": [
    "But our original adata remains unchanged."
   ]
  },
  {
   "cell_type": "code",
   "execution_count": 19,
   "id": "109739e3",
   "metadata": {},
   "outputs": [
    {
     "data": {
      "text/html": [
       "<table>\n",
       "    <tr>\n",
       "        <td>\n",
       "            <table>\n",
       "                <thead>\n",
       "                    <tr>\n",
       "                        <td> </td>\n",
       "                        <th> Array </th>\n",
       "                        <th> Chunk </th>\n",
       "                    </tr>\n",
       "                </thead>\n",
       "                <tbody>\n",
       "                    \n",
       "                    <tr>\n",
       "                        <th> Bytes </th>\n",
       "                        <td> 156.25 kiB </td>\n",
       "                        <td> 19.53 kiB </td>\n",
       "                    </tr>\n",
       "                    \n",
       "                    <tr>\n",
       "                        <th> Shape </th>\n",
       "                        <td> (200, 100) </td>\n",
       "                        <td> (50, 50) </td>\n",
       "                    </tr>\n",
       "                    <tr>\n",
       "                        <th> Count </th>\n",
       "                        <td> 3 Graph Layers </td>\n",
       "                        <td> 8 Chunks </td>\n",
       "                    </tr>\n",
       "                    <tr>\n",
       "                    <th> Type </th>\n",
       "                    <td> float64 </td>\n",
       "                    <td> numpy.ndarray </td>\n",
       "                    </tr>\n",
       "                </tbody>\n",
       "            </table>\n",
       "        </td>\n",
       "        <td>\n",
       "        <svg width=\"110\" height=\"170\" style=\"stroke:rgb(0,0,0);stroke-width:1\" >\n",
       "\n",
       "  <!-- Horizontal lines -->\n",
       "  <line x1=\"0\" y1=\"0\" x2=\"60\" y2=\"0\" style=\"stroke-width:2\" />\n",
       "  <line x1=\"0\" y1=\"30\" x2=\"60\" y2=\"30\" />\n",
       "  <line x1=\"0\" y1=\"60\" x2=\"60\" y2=\"60\" />\n",
       "  <line x1=\"0\" y1=\"90\" x2=\"60\" y2=\"90\" />\n",
       "  <line x1=\"0\" y1=\"120\" x2=\"60\" y2=\"120\" style=\"stroke-width:2\" />\n",
       "\n",
       "  <!-- Vertical lines -->\n",
       "  <line x1=\"0\" y1=\"0\" x2=\"0\" y2=\"120\" style=\"stroke-width:2\" />\n",
       "  <line x1=\"30\" y1=\"0\" x2=\"30\" y2=\"120\" />\n",
       "  <line x1=\"60\" y1=\"0\" x2=\"60\" y2=\"120\" style=\"stroke-width:2\" />\n",
       "\n",
       "  <!-- Colored Rectangle -->\n",
       "  <polygon points=\"0.0,0.0 60.0,0.0 60.0,120.0 0.0,120.0\" style=\"fill:#ECB172A0;stroke-width:0\"/>\n",
       "\n",
       "  <!-- Text -->\n",
       "  <text x=\"30.000000\" y=\"140.000000\" font-size=\"1.0rem\" font-weight=\"100\" text-anchor=\"middle\" >100</text>\n",
       "  <text x=\"80.000000\" y=\"60.000000\" font-size=\"1.0rem\" font-weight=\"100\" text-anchor=\"middle\" transform=\"rotate(-90,80.000000,60.000000)\">200</text>\n",
       "</svg>\n",
       "        </td>\n",
       "    </tr>\n",
       "</table>"
      ],
      "text/plain": [
       "dask.array<concatenate, shape=(200, 100), dtype=float64, chunksize=(50, 50), chunktype=numpy.ndarray>"
      ]
     },
     "execution_count": 19,
     "metadata": {},
     "output_type": "execute_result"
    }
   ],
   "source": [
    "adata_concat.X"
   ]
  },
  {
   "cell_type": "markdown",
   "id": "73ec7c71-08fa-403a-9bd4-dd0f735764a0",
   "metadata": {},
   "source": [
    "### Index List View"
   ]
  },
  {
   "cell_type": "code",
   "execution_count": 20,
   "id": "cb0543c7",
   "metadata": {},
   "outputs": [
    {
     "data": {
      "text/plain": [
       "View of AnnData object with n_obs × n_vars = 5 × 3\n",
       "    obs: 'batch'\n",
       "    obsm: 'a'\n",
       "    layers: 'a'"
      ]
     },
     "execution_count": 20,
     "metadata": {},
     "output_type": "execute_result"
    }
   ],
   "source": [
    "small_view = adata_concat[[12,12,3,5,53],[1,2,5]]\n",
    "small_view"
   ]
  },
  {
   "cell_type": "code",
   "execution_count": 21,
   "id": "8362620d",
   "metadata": {
    "scrolled": true
   },
   "outputs": [
    {
     "data": {
      "text/plain": [
       "DaskArrayView([[0.10482385, 0.1220922 , 0.14001571],\n",
       "               [0.10482385, 0.1220922 , 0.14001571],\n",
       "               [0.78356573, 0.73719148, 0.74932912],\n",
       "               [0.90583891, 0.06764586, 0.59375941],\n",
       "               [0.17349612, 0.05048287, 0.69104416]])"
      ]
     },
     "execution_count": 21,
     "metadata": {},
     "output_type": "execute_result"
    }
   ],
   "source": [
    "small_view.X"
   ]
  },
  {
   "cell_type": "markdown",
   "id": "fbdf0cfb-6554-4bd8-9fcd-3598d9bff5b1",
   "metadata": {},
   "source": [
    "### View by Category"
   ]
  },
  {
   "cell_type": "code",
   "execution_count": 22,
   "id": "d19a9668-6603-432f-b94f-0975caf3af68",
   "metadata": {},
   "outputs": [],
   "source": [
    "categ_view = adata_concat[adata_concat.obs['batch'] == 'b']"
   ]
  },
  {
   "cell_type": "code",
   "execution_count": 23,
   "id": "f278db22-86a7-4bbb-9738-4b9c64d9b995",
   "metadata": {},
   "outputs": [
    {
     "data": {
      "text/plain": [
       "DaskArrayView([[0.53301795, 0.66787443, 0.15634334, ..., 0.32164397,\n",
       "                0.75044711, 0.71176344],\n",
       "               [0.67788117, 0.48201184, 0.72151412, ..., 0.01904291,\n",
       "                0.45753518, 0.93067324],\n",
       "               [0.87211266, 0.78356573, 0.73719148, ..., 0.76309687,\n",
       "                0.44922404, 0.78628019],\n",
       "               ...,\n",
       "               [0.26697049, 0.44263729, 0.09259813, ..., 0.34704037,\n",
       "                0.95992393, 0.08773989],\n",
       "               [0.04647217, 0.39453262, 0.29082628, ..., 0.97541532,\n",
       "                0.98596622, 0.23065648],\n",
       "               [0.36910591, 0.24653824, 0.05248607, ..., 0.48638579,\n",
       "                0.41379648, 0.22823851]])"
      ]
     },
     "execution_count": 23,
     "metadata": {},
     "output_type": "execute_result"
    }
   ],
   "source": [
    "categ_view.X"
   ]
  },
  {
   "cell_type": "markdown",
   "id": "0787478c",
   "metadata": {},
   "source": [
    "## To Memory"
   ]
  },
  {
   "cell_type": "code",
   "execution_count": 24,
   "id": "4aadf1c9",
   "metadata": {},
   "outputs": [
    {
     "data": {
      "text/html": [
       "<table>\n",
       "    <tr>\n",
       "        <td>\n",
       "            <table>\n",
       "                <thead>\n",
       "                    <tr>\n",
       "                        <td> </td>\n",
       "                        <th> Array </th>\n",
       "                        <th> Chunk </th>\n",
       "                    </tr>\n",
       "                </thead>\n",
       "                <tbody>\n",
       "                    \n",
       "                    <tr>\n",
       "                        <th> Bytes </th>\n",
       "                        <td> 156.25 kiB </td>\n",
       "                        <td> 19.53 kiB </td>\n",
       "                    </tr>\n",
       "                    \n",
       "                    <tr>\n",
       "                        <th> Shape </th>\n",
       "                        <td> (200, 100) </td>\n",
       "                        <td> (50, 50) </td>\n",
       "                    </tr>\n",
       "                    <tr>\n",
       "                        <th> Count </th>\n",
       "                        <td> 3 Graph Layers </td>\n",
       "                        <td> 8 Chunks </td>\n",
       "                    </tr>\n",
       "                    <tr>\n",
       "                    <th> Type </th>\n",
       "                    <td> float64 </td>\n",
       "                    <td> numpy.ndarray </td>\n",
       "                    </tr>\n",
       "                </tbody>\n",
       "            </table>\n",
       "        </td>\n",
       "        <td>\n",
       "        <svg width=\"110\" height=\"170\" style=\"stroke:rgb(0,0,0);stroke-width:1\" >\n",
       "\n",
       "  <!-- Horizontal lines -->\n",
       "  <line x1=\"0\" y1=\"0\" x2=\"60\" y2=\"0\" style=\"stroke-width:2\" />\n",
       "  <line x1=\"0\" y1=\"30\" x2=\"60\" y2=\"30\" />\n",
       "  <line x1=\"0\" y1=\"60\" x2=\"60\" y2=\"60\" />\n",
       "  <line x1=\"0\" y1=\"90\" x2=\"60\" y2=\"90\" />\n",
       "  <line x1=\"0\" y1=\"120\" x2=\"60\" y2=\"120\" style=\"stroke-width:2\" />\n",
       "\n",
       "  <!-- Vertical lines -->\n",
       "  <line x1=\"0\" y1=\"0\" x2=\"0\" y2=\"120\" style=\"stroke-width:2\" />\n",
       "  <line x1=\"30\" y1=\"0\" x2=\"30\" y2=\"120\" />\n",
       "  <line x1=\"60\" y1=\"0\" x2=\"60\" y2=\"120\" style=\"stroke-width:2\" />\n",
       "\n",
       "  <!-- Colored Rectangle -->\n",
       "  <polygon points=\"0.0,0.0 60.0,0.0 60.0,120.0 0.0,120.0\" style=\"fill:#ECB172A0;stroke-width:0\"/>\n",
       "\n",
       "  <!-- Text -->\n",
       "  <text x=\"30.000000\" y=\"140.000000\" font-size=\"1.0rem\" font-weight=\"100\" text-anchor=\"middle\" >100</text>\n",
       "  <text x=\"80.000000\" y=\"60.000000\" font-size=\"1.0rem\" font-weight=\"100\" text-anchor=\"middle\" transform=\"rotate(-90,80.000000,60.000000)\">200</text>\n",
       "</svg>\n",
       "        </td>\n",
       "    </tr>\n",
       "</table>"
      ],
      "text/plain": [
       "dask.array<concatenate, shape=(200, 100), dtype=float64, chunksize=(50, 50), chunktype=numpy.ndarray>"
      ]
     },
     "execution_count": 24,
     "metadata": {},
     "output_type": "execute_result"
    }
   ],
   "source": [
    "adata_concat.X"
   ]
  },
  {
   "cell_type": "markdown",
   "id": "3d5fa2e0-5231-4236-be0c-2f3a1eec7a76",
   "metadata": {},
   "source": [
    "Here no copies are made, only the result of the lazy object is asked to be materialized."
   ]
  },
  {
   "cell_type": "code",
   "execution_count": 25,
   "id": "21e5d800",
   "metadata": {},
   "outputs": [
    {
     "data": {
      "text/plain": [
       "array([[0.53301795, 0.66787443, 0.15634334, ..., 0.32164397, 0.75044711,\n",
       "        0.71176344],\n",
       "       [0.67788117, 0.48201184, 0.72151412, ..., 0.01904291, 0.45753518,\n",
       "        0.93067324],\n",
       "       [0.17654758, 0.22333472, 0.43948775, ..., 0.25119521, 0.40568709,\n",
       "        0.9481696 ],\n",
       "       ...,\n",
       "       [0.80856321, 0.6160137 , 0.69223335, ..., 0.19004122, 0.33183754,\n",
       "        0.21153821],\n",
       "       [0.65223497, 0.41924633, 0.5888846 , ..., 0.78818906, 0.51566138,\n",
       "        0.91042055],\n",
       "       [0.36910591, 0.24653824, 0.05248607, ..., 0.48638579, 0.41379648,\n",
       "        0.22823851]])"
      ]
     },
     "execution_count": 25,
     "metadata": {},
     "output_type": "execute_result"
    }
   ],
   "source": [
    "adata_mem = adata_concat.to_memory(copy=False)\n",
    "adata_mem.X"
   ]
  },
  {
   "cell_type": "markdown",
   "id": "11282f53-ae2f-46cf-b257-b76189517f42",
   "metadata": {},
   "source": [
    "If you want to both materialize the result and copy."
   ]
  },
  {
   "cell_type": "code",
   "execution_count": 26,
   "id": "6f88a1b5",
   "metadata": {},
   "outputs": [
    {
     "data": {
      "text/plain": [
       "array([[0.53301795, 0.66787443, 0.15634334, ..., 0.32164397, 0.75044711,\n",
       "        0.71176344],\n",
       "       [0.67788117, 0.48201184, 0.72151412, ..., 0.01904291, 0.45753518,\n",
       "        0.93067324],\n",
       "       [0.17654758, 0.22333472, 0.43948775, ..., 0.25119521, 0.40568709,\n",
       "        0.9481696 ],\n",
       "       ...,\n",
       "       [0.80856321, 0.6160137 , 0.69223335, ..., 0.19004122, 0.33183754,\n",
       "        0.21153821],\n",
       "       [0.65223497, 0.41924633, 0.5888846 , ..., 0.78818906, 0.51566138,\n",
       "        0.91042055],\n",
       "       [0.36910591, 0.24653824, 0.05248607, ..., 0.48638579, 0.41379648,\n",
       "        0.22823851]])"
      ]
     },
     "execution_count": 26,
     "metadata": {},
     "output_type": "execute_result"
    }
   ],
   "source": [
    "adata_mem = adata_concat.to_memory(copy=True)\n",
    "adata_mem.X"
   ]
  },
  {
   "cell_type": "markdown",
   "id": "5154ceb5-8a8b-4c0d-84e9-530ee6d7e164",
   "metadata": {},
   "source": [
    "# IO operations\n",
    "\n",
    "Read/Write operations on `h5ad` and `Zarr` are supported. One should note that the lazy objects are materialized when this is called. For now, the anndata loaded from file won't be loaded with dask arrays in it."
   ]
  },
  {
   "cell_type": "markdown",
   "id": "97cc6eca-3545-4f13-876a-61aa42198a51",
   "metadata": {},
   "source": [
    "## Write h5ad"
   ]
  },
  {
   "cell_type": "code",
   "execution_count": 27,
   "id": "f0e1b0f5-434c-469e-9366-3537e61711e4",
   "metadata": {},
   "outputs": [],
   "source": [
    "adata.write_h5ad('a1.h5ad')"
   ]
  },
  {
   "cell_type": "code",
   "execution_count": 28,
   "id": "44aba881-1ecb-4cec-9770-4b5989197a15",
   "metadata": {
    "scrolled": true
   },
   "outputs": [
    {
     "data": {
      "text/html": [
       "<table>\n",
       "    <tr>\n",
       "        <td>\n",
       "            <table>\n",
       "                <thead>\n",
       "                    <tr>\n",
       "                        <td> </td>\n",
       "                        <th> Array </th>\n",
       "                        <th> Chunk </th>\n",
       "                    </tr>\n",
       "                </thead>\n",
       "                <tbody>\n",
       "                    \n",
       "                    <tr>\n",
       "                        <th> Bytes </th>\n",
       "                        <td> 78.12 kiB </td>\n",
       "                        <td> 19.53 kiB </td>\n",
       "                    </tr>\n",
       "                    \n",
       "                    <tr>\n",
       "                        <th> Shape </th>\n",
       "                        <td> (100, 100) </td>\n",
       "                        <td> (50, 50) </td>\n",
       "                    </tr>\n",
       "                    <tr>\n",
       "                        <th> Count </th>\n",
       "                        <td> 1 Graph Layer </td>\n",
       "                        <td> 4 Chunks </td>\n",
       "                    </tr>\n",
       "                    <tr>\n",
       "                    <th> Type </th>\n",
       "                    <td> float64 </td>\n",
       "                    <td> numpy.ndarray </td>\n",
       "                    </tr>\n",
       "                </tbody>\n",
       "            </table>\n",
       "        </td>\n",
       "        <td>\n",
       "        <svg width=\"170\" height=\"170\" style=\"stroke:rgb(0,0,0);stroke-width:1\" >\n",
       "\n",
       "  <!-- Horizontal lines -->\n",
       "  <line x1=\"0\" y1=\"0\" x2=\"120\" y2=\"0\" style=\"stroke-width:2\" />\n",
       "  <line x1=\"0\" y1=\"60\" x2=\"120\" y2=\"60\" />\n",
       "  <line x1=\"0\" y1=\"120\" x2=\"120\" y2=\"120\" style=\"stroke-width:2\" />\n",
       "\n",
       "  <!-- Vertical lines -->\n",
       "  <line x1=\"0\" y1=\"0\" x2=\"0\" y2=\"120\" style=\"stroke-width:2\" />\n",
       "  <line x1=\"60\" y1=\"0\" x2=\"60\" y2=\"120\" />\n",
       "  <line x1=\"120\" y1=\"0\" x2=\"120\" y2=\"120\" style=\"stroke-width:2\" />\n",
       "\n",
       "  <!-- Colored Rectangle -->\n",
       "  <polygon points=\"0.0,0.0 120.0,0.0 120.0,120.0 0.0,120.0\" style=\"fill:#ECB172A0;stroke-width:0\"/>\n",
       "\n",
       "  <!-- Text -->\n",
       "  <text x=\"60.000000\" y=\"140.000000\" font-size=\"1.0rem\" font-weight=\"100\" text-anchor=\"middle\" >100</text>\n",
       "  <text x=\"140.000000\" y=\"60.000000\" font-size=\"1.0rem\" font-weight=\"100\" text-anchor=\"middle\" transform=\"rotate(-90,140.000000,60.000000)\">100</text>\n",
       "</svg>\n",
       "        </td>\n",
       "    </tr>\n",
       "</table>"
      ],
      "text/plain": [
       "dask.array<random_sample, shape=(100, 100), dtype=float64, chunksize=(50, 50), chunktype=numpy.ndarray>"
      ]
     },
     "execution_count": 28,
     "metadata": {},
     "output_type": "execute_result"
    }
   ],
   "source": [
    "adata.X"
   ]
  },
  {
   "cell_type": "markdown",
   "id": "2d390470-bff0-4227-83a9-6b07593325d5",
   "metadata": {
    "tags": []
   },
   "source": [
    "## Read h5ad"
   ]
  },
  {
   "cell_type": "code",
   "execution_count": 29,
   "id": "a0b5a461-6eb6-405e-8f30-90ed5f14fee4",
   "metadata": {},
   "outputs": [],
   "source": [
    "h5ad_adata = ad.read_h5ad('a1.h5ad')"
   ]
  },
  {
   "cell_type": "code",
   "execution_count": 30,
   "id": "2b607652-fe8d-4ce9-a48d-5cfb8a156b84",
   "metadata": {},
   "outputs": [
    {
     "data": {
      "text/plain": [
       "array([[0.53301795, 0.66787443, 0.15634334, ..., 0.32164397, 0.75044711,\n",
       "        0.71176344],\n",
       "       [0.67788117, 0.48201184, 0.72151412, ..., 0.01904291, 0.45753518,\n",
       "        0.93067324],\n",
       "       [0.17654758, 0.22333472, 0.43948775, ..., 0.25119521, 0.40568709,\n",
       "        0.9481696 ],\n",
       "       ...,\n",
       "       [0.37945035, 0.44935904, 0.87368098, ..., 0.5946007 , 0.44552927,\n",
       "        0.67717767],\n",
       "       [0.64752554, 0.90163149, 0.65256089, ..., 0.97912291, 0.07755674,\n",
       "        0.49426686],\n",
       "       [0.66668329, 0.97821502, 0.81251887, ..., 0.94387503, 0.74818926,\n",
       "        0.31368062]])"
      ]
     },
     "execution_count": 30,
     "metadata": {},
     "output_type": "execute_result"
    }
   ],
   "source": [
    "h5ad_adata.X"
   ]
  },
  {
   "cell_type": "markdown",
   "id": "4baa54cb-3a72-438e-a9f9-9337a9c9798c",
   "metadata": {},
   "source": [
    "## Write zarr"
   ]
  },
  {
   "cell_type": "code",
   "execution_count": 31,
   "id": "55abd05c-1d4f-4dc6-a8b4-a3f2f9772ab6",
   "metadata": {},
   "outputs": [],
   "source": [
    "adata.write_zarr('a2.zarr')"
   ]
  },
  {
   "cell_type": "code",
   "execution_count": 32,
   "id": "0c0697e4-6a3a-41af-afcb-a52d269cc7bc",
   "metadata": {},
   "outputs": [
    {
     "data": {
      "text/html": [
       "<table>\n",
       "    <tr>\n",
       "        <td>\n",
       "            <table>\n",
       "                <thead>\n",
       "                    <tr>\n",
       "                        <td> </td>\n",
       "                        <th> Array </th>\n",
       "                        <th> Chunk </th>\n",
       "                    </tr>\n",
       "                </thead>\n",
       "                <tbody>\n",
       "                    \n",
       "                    <tr>\n",
       "                        <th> Bytes </th>\n",
       "                        <td> 78.12 kiB </td>\n",
       "                        <td> 19.53 kiB </td>\n",
       "                    </tr>\n",
       "                    \n",
       "                    <tr>\n",
       "                        <th> Shape </th>\n",
       "                        <td> (100, 100) </td>\n",
       "                        <td> (50, 50) </td>\n",
       "                    </tr>\n",
       "                    <tr>\n",
       "                        <th> Count </th>\n",
       "                        <td> 1 Graph Layer </td>\n",
       "                        <td> 4 Chunks </td>\n",
       "                    </tr>\n",
       "                    <tr>\n",
       "                    <th> Type </th>\n",
       "                    <td> float64 </td>\n",
       "                    <td> numpy.ndarray </td>\n",
       "                    </tr>\n",
       "                </tbody>\n",
       "            </table>\n",
       "        </td>\n",
       "        <td>\n",
       "        <svg width=\"170\" height=\"170\" style=\"stroke:rgb(0,0,0);stroke-width:1\" >\n",
       "\n",
       "  <!-- Horizontal lines -->\n",
       "  <line x1=\"0\" y1=\"0\" x2=\"120\" y2=\"0\" style=\"stroke-width:2\" />\n",
       "  <line x1=\"0\" y1=\"60\" x2=\"120\" y2=\"60\" />\n",
       "  <line x1=\"0\" y1=\"120\" x2=\"120\" y2=\"120\" style=\"stroke-width:2\" />\n",
       "\n",
       "  <!-- Vertical lines -->\n",
       "  <line x1=\"0\" y1=\"0\" x2=\"0\" y2=\"120\" style=\"stroke-width:2\" />\n",
       "  <line x1=\"60\" y1=\"0\" x2=\"60\" y2=\"120\" />\n",
       "  <line x1=\"120\" y1=\"0\" x2=\"120\" y2=\"120\" style=\"stroke-width:2\" />\n",
       "\n",
       "  <!-- Colored Rectangle -->\n",
       "  <polygon points=\"0.0,0.0 120.0,0.0 120.0,120.0 0.0,120.0\" style=\"fill:#ECB172A0;stroke-width:0\"/>\n",
       "\n",
       "  <!-- Text -->\n",
       "  <text x=\"60.000000\" y=\"140.000000\" font-size=\"1.0rem\" font-weight=\"100\" text-anchor=\"middle\" >100</text>\n",
       "  <text x=\"140.000000\" y=\"60.000000\" font-size=\"1.0rem\" font-weight=\"100\" text-anchor=\"middle\" transform=\"rotate(-90,140.000000,60.000000)\">100</text>\n",
       "</svg>\n",
       "        </td>\n",
       "    </tr>\n",
       "</table>"
      ],
      "text/plain": [
       "dask.array<random_sample, shape=(100, 100), dtype=float64, chunksize=(50, 50), chunktype=numpy.ndarray>"
      ]
     },
     "execution_count": 32,
     "metadata": {},
     "output_type": "execute_result"
    }
   ],
   "source": [
    "adata.X"
   ]
  },
  {
   "cell_type": "markdown",
   "id": "4cec2f1b-73c7-4fe8-b659-6126423a1450",
   "metadata": {},
   "source": [
    "## Read zarr"
   ]
  },
  {
   "cell_type": "code",
   "execution_count": 33,
   "id": "1aabb21c-b186-42b4-96b0-82dc0d114a0a",
   "metadata": {},
   "outputs": [],
   "source": [
    "zarr_adata = ad.read_zarr('a2.zarr')"
   ]
  },
  {
   "cell_type": "code",
   "execution_count": 34,
   "id": "5e7c26d3-8c4a-4c70-aeab-e62c2ca092a3",
   "metadata": {},
   "outputs": [
    {
     "data": {
      "text/plain": [
       "array([[0.53301795, 0.66787443, 0.15634334, ..., 0.32164397, 0.75044711,\n",
       "        0.71176344],\n",
       "       [0.67788117, 0.48201184, 0.72151412, ..., 0.01904291, 0.45753518,\n",
       "        0.93067324],\n",
       "       [0.17654758, 0.22333472, 0.43948775, ..., 0.25119521, 0.40568709,\n",
       "        0.9481696 ],\n",
       "       ...,\n",
       "       [0.37945035, 0.44935904, 0.87368098, ..., 0.5946007 , 0.44552927,\n",
       "        0.67717767],\n",
       "       [0.64752554, 0.90163149, 0.65256089, ..., 0.97912291, 0.07755674,\n",
       "        0.49426686],\n",
       "       [0.66668329, 0.97821502, 0.81251887, ..., 0.94387503, 0.74818926,\n",
       "        0.31368062]])"
      ]
     },
     "execution_count": 34,
     "metadata": {},
     "output_type": "execute_result"
    }
   ],
   "source": [
    "zarr_adata.X"
   ]
  },
  {
   "cell_type": "markdown",
   "id": "b729179a-6969-4a1a-aa76-a1dd189986ba",
   "metadata": {},
   "source": [
    "Notice how they are loaded as arrays rather than dask arrays."
   ]
  },
  {
   "cell_type": "markdown",
   "id": "50ebca9b-3468-4031-9c37-172fe5d06db9",
   "metadata": {},
   "source": [
    "## Dask Array Support for Other Fields\n",
    "\n",
    "This is the list of operations and in which fields they are supported, although some might have not been covered in this tutorial.\n",
    "\n",
    "The following work with operations anndata supported before are also supported now with Dask arrays:\n",
    "- anndata.concat()\n",
    "- Views\n",
    "- copy()\n",
    "- to_memory() (changed behaviour)\n",
    "- read/write on h5ad/zarr\n",
    "\n",
    "**X, obsm, varm, obsp, varp, layers, uns, and raw** attributes are all supported and tested.\n",
    "\n",
    "Note: scipy.sparse array wrapped with dask array doesn't play well. This is mainly because of the inconsistent numpy api support of scipy.sparse. Even though not explicitly tested, a sparse array that supports the numpy api should theoretically work well."
   ]
  }
 ],
 "metadata": {
  "kernelspec": {
   "display_name": "dask",
   "language": "python",
   "name": "dask"
  },
  "language_info": {
   "codemirror_mode": {
    "name": "ipython",
    "version": 3
   },
   "file_extension": ".py",
   "mimetype": "text/x-python",
   "name": "python",
   "nbconvert_exporter": "python",
   "version": "3.10.6"
  }
 },
 "nbformat": 4,
 "nbformat_minor": 5
}
