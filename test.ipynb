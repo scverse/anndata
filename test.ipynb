{
 "cells": [
  {
   "cell_type": "code",
   "execution_count": 1,
   "id": "17ab4a27",
   "metadata": {},
   "outputs": [],
   "source": [
    "from __future__ import annotations"
   ]
  },
  {
   "cell_type": "code",
   "execution_count": 2,
   "id": "52aa0fed",
   "metadata": {},
   "outputs": [],
   "source": [
    "import sys\n",
    "from types import ModuleType\n",
    "\n",
    "\n",
    "def get_loaded_packages() -> list[str]:\n",
    "    modules = []\n",
    "    for name, module in sys.modules.items():\n",
    "        if isinstance(module, ModuleType) and not name.startswith(\"_\"):\n",
    "            if \".\" not in name:\n",
    "                modules.append(name)\n",
    "    return sorted(modules)"
   ]
  },
  {
   "cell_type": "code",
   "execution_count": 3,
   "id": "a73a9b45",
   "metadata": {},
   "outputs": [],
   "source": [
    "assert \"torch\" not in get_loaded_packages()"
   ]
  },
  {
   "cell_type": "code",
   "execution_count": 4,
   "id": "9a2c9ae9",
   "metadata": {},
   "outputs": [],
   "source": [
    "from anndata.experimental import AnnLoader"
   ]
  },
  {
   "cell_type": "code",
   "execution_count": 5,
   "id": "d82fcefa",
   "metadata": {},
   "outputs": [],
   "source": [
    "test = AnnLoader"
   ]
  },
  {
   "cell_type": "code",
   "execution_count": 6,
   "id": "0acd531f",
   "metadata": {},
   "outputs": [
    {
     "data": {
      "text/plain": [
       "\"PyTorch DataLoader for AnnData objects.\\n\\nBuilds DataLoader from a sequence of AnnData objects, from an\\n:class:`~anndata.experimental.AnnCollection` object or from an `AnnCollectionView` object.\\nTakes care of the required conversions.\\n\\nParameters\\n----------\\nadatas\\n    `AnnData` objects or an `AnnCollection` object from which to load the data.\\nbatch_size\\n    How many samples per batch to load.\\nshuffle\\n    Set to `True` to have the data reshuffled at every epoch.\\nuse_default_converter\\n    Use the default converter to convert arrays to pytorch tensors, transfer to\\n    the default cuda device (if `use_cuda=True`), do memory pinning (if `pin_memory=True`).\\n    If you pass an AnnCollection object with prespecified converters, the default converter\\n    won't overwrite these converters but will be applied on top of them.\\nuse_cuda\\n    Transfer pytorch tensors to the default cuda device after conversion.\\n    Only works if `use_default_converter=True`\\n**kwargs\\n    Arguments for PyTorch DataLoader. If `adatas` is not an `AnnCollection` object, then also\\n    arguments for `AnnCollection` initialization.\\n\""
      ]
     },
     "execution_count": 6,
     "metadata": {},
     "output_type": "execute_result"
    }
   ],
   "source": [
    "test.__doc__"
   ]
  },
  {
   "cell_type": "code",
   "execution_count": null,
   "id": "652ba077",
   "metadata": {},
   "outputs": [],
   "source": []
  }
 ],
 "metadata": {
  "kernelspec": {
   "display_name": "scverse",
   "language": "python",
   "name": "python3"
  },
  "language_info": {
   "codemirror_mode": {
    "name": "ipython",
    "version": 3
   },
   "file_extension": ".py",
   "mimetype": "text/x-python",
   "name": "python",
   "nbconvert_exporter": "python",
   "pygments_lexer": "ipython3",
   "version": "3.13.2"
  }
 },
 "nbformat": 4,
 "nbformat_minor": 5
}
